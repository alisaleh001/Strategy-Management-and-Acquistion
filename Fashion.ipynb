{
 "cells": [
  {
   "cell_type": "code",
   "execution_count": 1,
   "id": "26bf8ce6",
   "metadata": {},
   "outputs": [],
   "source": [
    "import numpy as np\n",
    "import pandas as pd\n",
    "import matplotlib.pyplot as plt"
   ]
  },
  {
   "cell_type": "code",
   "execution_count": 2,
   "id": "13564c6f",
   "metadata": {},
   "outputs": [],
   "source": [
    "dress = pd.read_csv(\"dress.csv\", header=None)"
   ]
  },
  {
   "cell_type": "code",
   "execution_count": 5,
   "id": "d658b592",
   "metadata": {},
   "outputs": [
    {
     "data": {
      "text/html": [
       "<div>\n",
       "<style scoped>\n",
       "    .dataframe tbody tr th:only-of-type {\n",
       "        vertical-align: middle;\n",
       "    }\n",
       "\n",
       "    .dataframe tbody tr th {\n",
       "        vertical-align: top;\n",
       "    }\n",
       "\n",
       "    .dataframe thead th {\n",
       "        text-align: right;\n",
       "    }\n",
       "</style>\n",
       "<table border=\"1\" class=\"dataframe\">\n",
       "  <thead>\n",
       "    <tr style=\"text-align: right;\">\n",
       "      <th></th>\n",
       "      <th>0</th>\n",
       "      <th>1</th>\n",
       "      <th>2</th>\n",
       "      <th>3</th>\n",
       "    </tr>\n",
       "  </thead>\n",
       "  <tbody>\n",
       "    <tr>\n",
       "      <th>0</th>\n",
       "      <td>_unit_id</td>\n",
       "      <td>category</td>\n",
       "      <td>category:confidence</td>\n",
       "      <td>image_url</td>\n",
       "    </tr>\n",
       "    <tr>\n",
       "      <th>1</th>\n",
       "      <td>851505458</td>\n",
       "      <td>ikat</td>\n",
       "      <td>0.3487</td>\n",
       "      <td>http://s3-eu-west-1.amazonaws.com/we-attribute...</td>\n",
       "    </tr>\n",
       "    <tr>\n",
       "      <th>2</th>\n",
       "      <td>851505459</td>\n",
       "      <td>plain</td>\n",
       "      <td>1</td>\n",
       "      <td>http://s3-eu-west-1.amazonaws.com/we-attribute...</td>\n",
       "    </tr>\n",
       "    <tr>\n",
       "      <th>3</th>\n",
       "      <td>851505460</td>\n",
       "      <td>polka dot</td>\n",
       "      <td>0.6709</td>\n",
       "      <td>http://s3-eu-west-1.amazonaws.com/we-attribute...</td>\n",
       "    </tr>\n",
       "    <tr>\n",
       "      <th>4</th>\n",
       "      <td>851505461</td>\n",
       "      <td>plain</td>\n",
       "      <td>1</td>\n",
       "      <td>http://s3-eu-west-1.amazonaws.com/we-attribute...</td>\n",
       "    </tr>\n",
       "    <tr>\n",
       "      <th>5</th>\n",
       "      <td>851505462</td>\n",
       "      <td>geometry</td>\n",
       "      <td>0.7035</td>\n",
       "      <td>http://s3-eu-west-1.amazonaws.com/we-attribute...</td>\n",
       "    </tr>\n",
       "  </tbody>\n",
       "</table>\n",
       "</div>"
      ],
      "text/plain": [
       "           0          1                    2  \\\n",
       "0   _unit_id   category  category:confidence   \n",
       "1  851505458       ikat               0.3487   \n",
       "2  851505459      plain                    1   \n",
       "3  851505460  polka dot               0.6709   \n",
       "4  851505461      plain                    1   \n",
       "5  851505462   geometry               0.7035   \n",
       "\n",
       "                                                   3  \n",
       "0                                          image_url  \n",
       "1  http://s3-eu-west-1.amazonaws.com/we-attribute...  \n",
       "2  http://s3-eu-west-1.amazonaws.com/we-attribute...  \n",
       "3  http://s3-eu-west-1.amazonaws.com/we-attribute...  \n",
       "4  http://s3-eu-west-1.amazonaws.com/we-attribute...  \n",
       "5  http://s3-eu-west-1.amazonaws.com/we-attribute...  "
      ]
     },
     "execution_count": 5,
     "metadata": {},
     "output_type": "execute_result"
    }
   ],
   "source": [
    "dress.head(6)"
   ]
  },
  {
   "cell_type": "code",
   "execution_count": 119,
   "id": "76bfdb8b",
   "metadata": {},
   "outputs": [],
   "source": [
    "transation  = []\n",
    "for i in range(0,15703):\n",
    "    transation.append([str(dress.values[i,j]) for j in range (0,3)])"
   ]
  },
  {
   "cell_type": "code",
   "execution_count": 120,
   "id": "28f89ee0",
   "metadata": {},
   "outputs": [
    {
     "data": {
      "text/plain": [
       "0.0013373240782016175"
      ]
     },
     "execution_count": 120,
     "metadata": {},
     "output_type": "execute_result"
    }
   ],
   "source": [
    "3*7/15703"
   ]
  },
  {
   "cell_type": "code",
   "execution_count": 121,
   "id": "e8d32efb",
   "metadata": {},
   "outputs": [],
   "source": [
    "from apyori import apriori"
   ]
  },
  {
   "cell_type": "code",
   "execution_count": 135,
   "id": "aff78e3b",
   "metadata": {},
   "outputs": [],
   "source": [
    "rules = apriori(transation,min_support = 0.001,min_confidence = 0.2,min_lift = 3 , min_length=3)"
   ]
  },
  {
   "cell_type": "code",
   "execution_count": 136,
   "id": "07f7e44b",
   "metadata": {},
   "outputs": [
    {
     "data": {
      "text/plain": [
       "<generator object apriori at 0x0000026680344B30>"
      ]
     },
     "execution_count": 136,
     "metadata": {},
     "output_type": "execute_result"
    }
   ],
   "source": [
    "rules"
   ]
  },
  {
   "cell_type": "code",
   "execution_count": 137,
   "id": "00305358",
   "metadata": {},
   "outputs": [],
   "source": [
    "results = list(rules)"
   ]
  },
  {
   "cell_type": "code",
   "execution_count": 138,
   "id": "48343971",
   "metadata": {},
   "outputs": [
    {
     "name": "stdout",
     "output_type": "stream",
     "text": [
      "[RelationRecord(items=frozenset({'0.3462', 'OTHER'}), support=0.0011462777813156721, ordered_statistics=[OrderedStatistic(items_base=frozenset({'0.3462'}), items_add=frozenset({'OTHER'}), confidence=0.33962264150943394, lift=10.395895398874545)])]\n"
     ]
    }
   ],
   "source": [
    "print(results)"
   ]
  },
  {
   "cell_type": "code",
   "execution_count": null,
   "id": "80dc00ce",
   "metadata": {},
   "outputs": [],
   "source": []
  },
  {
   "cell_type": "code",
   "execution_count": null,
   "id": "bae5e6b0",
   "metadata": {},
   "outputs": [],
   "source": []
  },
  {
   "cell_type": "code",
   "execution_count": null,
   "id": "b9923dc6",
   "metadata": {},
   "outputs": [],
   "source": []
  }
 ],
 "metadata": {
  "kernelspec": {
   "display_name": "Python 3 (ipykernel)",
   "language": "python",
   "name": "python3"
  },
  "language_info": {
   "codemirror_mode": {
    "name": "ipython",
    "version": 3
   },
   "file_extension": ".py",
   "mimetype": "text/x-python",
   "name": "python",
   "nbconvert_exporter": "python",
   "pygments_lexer": "ipython3",
   "version": "3.10.9"
  }
 },
 "nbformat": 4,
 "nbformat_minor": 5
}
